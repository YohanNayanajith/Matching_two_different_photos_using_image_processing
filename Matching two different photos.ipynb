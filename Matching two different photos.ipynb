{
 "cells": [
  {
   "cell_type": "code",
   "execution_count": 1,
   "metadata": {},
   "outputs": [
    {
     "name": "stdout",
     "output_type": "stream",
     "text": [
      "(478, 44)\n",
      "2\n"
     ]
    }
   ],
   "source": [
    "import cv2\n",
    "import numpy as np\n",
    "\n",
    "img = cv2.imread(\"simpsons.jpg\") #coloured format\n",
    "gray_img = cv2.cvtColor(img,cv2.COLOR_BGR2GRAY) #gray scale image\n",
    "h1,w1 = gray_img.shape\n",
    "final_img = img\n",
    "\n",
    "template = cv2.imread(\"barts_face.jpg\",cv2.IMREAD_GRAYSCALE)\n",
    "w,h = template.shape[::-1] #rows = height,columns = width\n",
    "\n",
    "result = cv2.matchTemplate(gray_img,template,cv2.TM_CCOEFF_NORMED)\n",
    "loc = np.where(result >= 0.9)\n",
    "\n",
    "for pt in zip(*loc[::-1]):\n",
    "    global coordinates\n",
    "    coordinates = pt\n",
    "    cv2.rectangle(img,pt,(pt[0]+w,pt[1]+h),(0,255,0),3)\n",
    "\n",
    "crop_width_size = 3\n",
    "crop_height_size = 3\n",
    "height = int(h1 / crop_height_size)\n",
    "width = int(w1 / crop_width_size )\n",
    "\n",
    "correct_rect = False\n",
    "rect_number = 0.9\n",
    "for ih in range(crop_height_size):\n",
    "    for iw in range(crop_width_size):\n",
    "        x = int(w1/crop_width_size * iw) \n",
    "        y = int(h1/crop_height_size * ih)\n",
    "\n",
    "        cv2.rectangle(final_img,(x,y),(x+width,y+height),(0,0,255),1)\n",
    "        if((coordinates[0] >= x and coordinates[0] <= (x+width)) and (coordinates[1] >= y and coordinates[1] <= (y+height))):\n",
    "            if(((coordinates[0]+int(w/2)) >= x and (coordinates[0]+int(w/2)) <= (x+width)) and ((coordinates[1]+h) >= y and (coordinates[1]+h) <= (y+height))):\n",
    "                correct_rect = True\n",
    "                rect_number = iw+1\n",
    "        else:\n",
    "            if(((coordinates[0]+int(w/2)) >= x and (coordinates[0]+int(w/2)) <= (x+width)) and ((coordinates[1]+h) >= y and (coordinates[1]+h) <= (y+height))):\n",
    "                correct_rect = True\n",
    "                rect_number = iw+1\n",
    "\n",
    "print(coordinates)\n",
    "if(correct_rect == True):\n",
    "    print(rect_number)\n",
    "cv2.imshow(\"Image\",img)\n",
    "#cv2.imshow(\"Final Image\",final_img)\n",
    "#cv2.imshow(\"Result\",result)\n",
    "cv2.waitKey(0)\n",
    "cv2.destroyAllWindows()"
   ]
  }
 ],
 "metadata": {
  "kernelspec": {
   "display_name": "Python 3",
   "language": "python",
   "name": "python3"
  },
  "language_info": {
   "codemirror_mode": {
    "name": "ipython",
    "version": 3
   },
   "file_extension": ".py",
   "mimetype": "text/x-python",
   "name": "python",
   "nbconvert_exporter": "python",
   "pygments_lexer": "ipython3",
   "version": "3.8.5"
  },
  "varInspector": {
   "cols": {
    "lenName": 16,
    "lenType": 16,
    "lenVar": 40
   },
   "kernels_config": {
    "python": {
     "delete_cmd_postfix": "",
     "delete_cmd_prefix": "del ",
     "library": "var_list.py",
     "varRefreshCmd": "print(var_dic_list())"
    },
    "r": {
     "delete_cmd_postfix": ") ",
     "delete_cmd_prefix": "rm(",
     "library": "var_list.r",
     "varRefreshCmd": "cat(var_dic_list()) "
    }
   },
   "types_to_exclude": [
    "module",
    "function",
    "builtin_function_or_method",
    "instance",
    "_Feature"
   ],
   "window_display": false
  }
 },
 "nbformat": 4,
 "nbformat_minor": 4
}
